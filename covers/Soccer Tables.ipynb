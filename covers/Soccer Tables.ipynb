{
 "cells": [
  {
   "cell_type": "code",
   "execution_count": 1,
   "metadata": {
    "collapsed": true
   },
   "outputs": [],
   "source": [
    "import requests\n",
    "from bs4 import BeautifulSoup\n",
    "import numpy as np\n",
    "import pandas as pd\n",
    "import time\n",
    "import json"
   ]
  },
  {
   "cell_type": "code",
   "execution_count": 2,
   "metadata": {
    "collapsed": true
   },
   "outputs": [],
   "source": [
    "def url(year, country=\"England\"):\n",
    "    if country == \"England\":\n",
    "        var = \"_Premier_League\"\n",
    "    elif country ==\"Spain\":\n",
    "        var = \"_La_Liga\"\n",
    "    elif country ==\"Germany\":\n",
    "        var = \"_Bundesliga\"\n",
    "    elif country ==\"France\":\n",
    "        var = \"_Ligue_1\"\n",
    "    elif country ==\"Italy\":\n",
    "        var = \"_Serie_A\"\n",
    "    elif country ==\"Portugal\":\n",
    "        var = \"_Primeira_Liga\"\n",
    "    else:\n",
    "        raise ValueError('Country Not Found/Implemented')\n",
    "    if year != 1999:\n",
    "        return \"https://en.wikipedia.org/wiki/\"+str(year)+\"–\"+str(year+1)[2:]+var\n",
    "    else:\n",
    "        return \"https://en.wikipedia.org/wiki/\"+str(year)+\"–\"+str(year+1)+var\n",
    "\n",
    "def scrape(url, verbose=False, nice = True):\n",
    "    if verbose:\n",
    "        print url\n",
    "    if nice:\n",
    "        time.sleep(1)\n",
    "    soup = BeautifulSoup(requests.get(url).text, \"html.parser\")\n",
    "    if len(soup.text.split('Wikipedia does not have an article with this exact name')) == 2:\n",
    "        print \"Article at this link:\",url,\"doesn't exist\"\n",
    "        return None\n",
    "    for table in soup.find_all(\"table\", attrs={\"class\": \"wikitable\"}):\n",
    "        try:\n",
    "            a = table.find_all(\"tr\")[0].find_all('th')[0].get_text()\n",
    "        except:\n",
    "            pass\n",
    "        else:\n",
    "            if a in [\"Pos\", 'P']:\n",
    "                return scrapeTable(table)\n",
    "    #raise ValueError('Table not Found')\n",
    "    print \"Table Not Found, trying method 2\", url\n",
    "    return scrape_take_2(soup)\n",
    "    \n",
    "def scrape_take_2(soup):\n",
    "    for i, t in enumerate(soup.find_all('table')):\n",
    "        try:\n",
    "            a = t.find_all(\"tr\")[0].find_all('th')[0].get_text()\n",
    "            b = t.find_all(\"tr\")[0].find_all('th')[1].get_text()\n",
    "        except:\n",
    "            pass\n",
    "        else:\n",
    "            if a in ['Position', 'P'] and b == 'Club':\n",
    "                \"Found\"\n",
    "                return scrapeTable(t)\n",
    "    print \"Not Found\"\n",
    "    return None\n",
    "    \n",
    "def scrapeTable(table):\n",
    "    for superscript in table.find_all(\"sup\"):\n",
    "        superscript.decompose()\n",
    "    body =  [[entry.get_text() for entry in row.find_all(\"td\")] for row in table.find_all(\"tr\")[1:] if len(row.find_all(\"td\"))>1]\n",
    "    head =  [[entry.get_text() for entry in table.find_all(\"tr\")[0].find_all(\"th\")]]\n",
    "    return head+body"
   ]
  },
  {
   "cell_type": "code",
   "execution_count": 3,
   "metadata": {
    "collapsed": false
   },
   "outputs": [
    {
     "name": "stdout",
     "output_type": "stream",
     "text": [
      "Article at this link: https://en.wikipedia.org/wiki/1990–91_Premier_League doesn't exist\n",
      "Article at this link: https://en.wikipedia.org/wiki/1991–92_Premier_League doesn't exist\n",
      "Article at this link: https://en.wikipedia.org/wiki/1990–91_Ligue_1 doesn't exist\n",
      "Article at this link: https://en.wikipedia.org/wiki/1991–92_Ligue_1 doesn't exist\n",
      "Article at this link: https://en.wikipedia.org/wiki/1992–93_Ligue_1 doesn't exist\n",
      "Article at this link: https://en.wikipedia.org/wiki/1993–94_Ligue_1 doesn't exist\n",
      "Article at this link: https://en.wikipedia.org/wiki/1994–95_Ligue_1 doesn't exist\n",
      "Article at this link: https://en.wikipedia.org/wiki/1995–96_Ligue_1 doesn't exist\n",
      "Article at this link: https://en.wikipedia.org/wiki/1996–97_Ligue_1 doesn't exist\n",
      "Article at this link: https://en.wikipedia.org/wiki/1997–98_Ligue_1 doesn't exist\n",
      "Article at this link: https://en.wikipedia.org/wiki/1998–99_Ligue_1 doesn't exist\n",
      "Article at this link: https://en.wikipedia.org/wiki/1999–2000_Ligue_1 doesn't exist\n",
      "Article at this link: https://en.wikipedia.org/wiki/2000–01_Ligue_1 doesn't exist\n",
      "Article at this link: https://en.wikipedia.org/wiki/2001–02_Ligue_1 doesn't exist\n",
      "Table Not Found, trying method 2 https://en.wikipedia.org/wiki/2003–04_Ligue_1\n",
      "Table Not Found, trying method 2 https://en.wikipedia.org/wiki/2004–05_Ligue_1\n",
      "Table Not Found, trying method 2 https://en.wikipedia.org/wiki/2005–06_Ligue_1\n",
      "Table Not Found, trying method 2 https://en.wikipedia.org/wiki/2005–06_Serie_A\n",
      "Not Found\n",
      "Table Not Found, trying method 2 https://en.wikipedia.org/wiki/1990–91_La_Liga\n",
      "Table Not Found, trying method 2 https://en.wikipedia.org/wiki/1991–92_La_Liga\n"
     ]
    }
   ],
   "source": [
    "years = range(1990,2016)\n",
    "leagues = {'e' : \"England\",\n",
    "           'g' : \"Germany\",\n",
    "           'p' : \"Portugal\",\n",
    "           'f' : \"France\",\n",
    "           'i' : \"Italy\",\n",
    "           's' : \"Spain\"}\n",
    "\n",
    "verb = False\n",
    "nice = True\n",
    "           \n",
    "data = {v+\"_PL\" : {year : scrape(url(year, v), verbose = verb, nice = nice) for year in years} for k, v in leagues.iteritems()}"
   ]
  },
  {
   "cell_type": "code",
   "execution_count": null,
   "metadata": {
    "collapsed": true
   },
   "outputs": [],
   "source": [
    "for k, v in data.iteritems():\n",
    "    with open(k+'_tables.json', 'w') as fp:\n",
    "        json.dump(v, fp)"
   ]
  }
 ],
 "metadata": {
  "kernelspec": {
   "display_name": "Python 2",
   "language": "python",
   "name": "python2"
  },
  "language_info": {
   "codemirror_mode": {
    "name": "ipython",
    "version": 2
   },
   "file_extension": ".py",
   "mimetype": "text/x-python",
   "name": "python",
   "nbconvert_exporter": "python",
   "pygments_lexer": "ipython2",
   "version": "2.7.10"
  }
 },
 "nbformat": 4,
 "nbformat_minor": 0
}
