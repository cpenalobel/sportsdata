{
 "cells": [
  {
   "cell_type": "code",
   "execution_count": 1,
   "metadata": {
    "collapsed": true
   },
   "outputs": [],
   "source": [
    "import requests\n",
    "from bs4 import BeautifulSoup\n",
    "import numpy as np\n",
    "import pandas as pd\n",
    "from math import exp\n",
    "import time\n",
    "from itertools import product"
   ]
  },
  {
   "cell_type": "code",
   "execution_count": 2,
   "metadata": {
    "collapsed": false
   },
   "outputs": [],
   "source": [
    "from selenium import webdriver\n",
    "from selenium.webdriver.common.by import By\n",
    "from selenium.webdriver.support.ui import WebDriverWait\n",
    "from selenium.common.exceptions import NoSuchElementException\n",
    "from selenium.webdriver.support import expected_conditions as EC"
   ]
  },
  {
   "cell_type": "code",
   "execution_count": 3,
   "metadata": {
    "collapsed": true
   },
   "outputs": [],
   "source": [
    "%matplotlib inline\n",
    "import seaborn as sns\n",
    "import matplotlib.pyplot as plt\n",
    "import statsmodels.formula.api as smf\n",
    "sns.set_style(\"whitegrid\")\n",
    "sns.set_context(\"poster\")\n",
    "import pickle"
   ]
  },
  {
   "cell_type": "code",
   "execution_count": 4,
   "metadata": {
    "collapsed": false
   },
   "outputs": [],
   "source": [
    "def get_all_movies_via_search(ext):\n",
    "    driver = webdriver.Firefox()\n",
    "    driver.maximize_window()\n",
    "\n",
    "    wait = WebDriverWait(driver, 10)\n",
    "\n",
    "    url = \"http://www.rottentomatoes.com/search/?search=\"\n",
    "    driver.get(url+ext)\n",
    "\n",
    "    # wait for the complete page load\n",
    "    wait.until(EC.invisibility_of_element_located((By.ID, \"preload\")))\n",
    "    \n",
    "    try:\n",
    "        element = driver.find_element_by_xpath(\"//*[@id='movies_tab']\")\n",
    "        element.click()\n",
    "    except NoSuchElementException:\n",
    "        driver.close()\n",
    "        return []\n",
    "    else:\n",
    "        wait.until(EC.invisibility_of_element_located((By.ID, \"preload\")))\n",
    "\n",
    "        # parse the HTML\n",
    "        soup = BeautifulSoup(driver.page_source, \"html.parser\")\n",
    "        soups = []\n",
    "        counter = 1\n",
    "        while True:\n",
    "            try:\n",
    "                element = driver.find_element_by_xpath(\"(//div[@id='results_movies_tab']//span[contains(@class, 'right')])[1]\")\n",
    "                element.click()\n",
    "            except NoSuchElementException:\n",
    "                driver.close()\n",
    "                return [soup]\n",
    "            else:\n",
    "                time.sleep(5)\n",
    "                soup2 = BeautifulSoup(driver.page_source, \"html.parser\")\n",
    "                if soup == soup2:\n",
    "                    soups.append(soup)\n",
    "                    break\n",
    "                else:\n",
    "                    soups.append(soup)\n",
    "                    soup = soup2\n",
    "        driver.close()\n",
    "        return soups\n",
    "\n",
    "def movies(soup):\n",
    "    soup_ = soup.find_all(\"ul\", id = \"movie_results_ul\")[1]\n",
    "    i = 1\n",
    "    for s in soup_.find_all(\"li\"):\n",
    "        print i, s.find_all(\"a\")[1].text\n",
    "        i += 1"
   ]
  },
  {
   "cell_type": "code",
   "execution_count": 5,
   "metadata": {
    "collapsed": true
   },
   "outputs": [],
   "source": [
    "all_movies_soups = {}\n",
    "strng = \"abcdefghijklmnopqrstuvwxyz0123456789\""
   ]
  },
  {
   "cell_type": "code",
   "execution_count": 6,
   "metadata": {
    "collapsed": false
   },
   "outputs": [],
   "source": [
    "comb_string = [\"\".join(a) for a in product(strng, repeat = 2)]"
   ]
  },
  {
   "cell_type": "code",
   "execution_count": null,
   "metadata": {
    "collapsed": true
   },
   "outputs": [],
   "source": [
    "n = len(comb_string)"
   ]
  },
  {
   "cell_type": "code",
   "execution_count": null,
   "metadata": {
    "collapsed": false
   },
   "outputs": [],
   "source": [
    "while True:\n",
    "    try:\n",
    "        for i, a in enumerate(comb_string):\n",
    "            if a in all_movies_soups.keys():\n",
    "                if a == strng[-1]:\n",
    "                    break\n",
    "                print \"\\r\", float(i)/n, \"Already scraped\", a,\n",
    "            else:\n",
    "                print \"\\r\", float(i)/n, a,\n",
    "                all_movies_soups[a] = get_all_movies_via_search(a)\n",
    "    except KeyboardInterrupt:\n",
    "        break\n",
    "    except:\n",
    "        pass"
   ]
  }
 ],
 "metadata": {
  "kernelspec": {
   "display_name": "Python 2",
   "language": "python",
   "name": "python2"
  },
  "language_info": {
   "codemirror_mode": {
    "name": "ipython",
    "version": 2
   },
   "file_extension": ".py",
   "mimetype": "text/x-python",
   "name": "python",
   "nbconvert_exporter": "python",
   "pygments_lexer": "ipython2",
   "version": "2.7.11"
  }
 },
 "nbformat": 4,
 "nbformat_minor": 0
}
