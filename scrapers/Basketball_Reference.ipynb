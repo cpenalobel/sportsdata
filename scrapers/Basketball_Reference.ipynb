{
 "cells": [
  {
   "cell_type": "code",
   "execution_count": 67,
   "metadata": {
    "collapsed": true
   },
   "outputs": [],
   "source": [
    "import requests\n",
    "from bs4 import BeautifulSoup\n",
    "import numpy as np\n",
    "import pandas as pd\n",
    "import time\n",
    "import json\n",
    "from collections import namedtuple\n",
    "import csv\n",
    "import glob\n",
    "from time import strptime"
   ]
  },
  {
   "cell_type": "code",
   "execution_count": 8,
   "metadata": {
    "collapsed": false
   },
   "outputs": [],
   "source": [
    "def named_tuple_structure():\n",
    "    return namedtuple('Player', 'active url name start end pos height weight birthdate college')"
   ]
  },
  {
   "cell_type": "code",
   "execution_count": 9,
   "metadata": {
    "collapsed": true
   },
   "outputs": [],
   "source": [
    "def makePlayersDict(verbose=False, nice=True):\n",
    "    url = 'http://www.basketball-reference.com'\n",
    "    extension = '/players/'\n",
    "    soup = BeautifulSoup(requests.get(url+extension).text, \"html.parser\")\n",
    "    data = soup.find(id='page_content').p\n",
    "    links = [url+a['href'] for a in data.find_all('a', href=True)]\n",
    "    Player = named_tuple_structure()\n",
    "    d = {}\n",
    "    for l in links:\n",
    "        if verbose:\n",
    "            print l\n",
    "        if nice:\n",
    "            time.sleep(1)\n",
    "        soup = BeautifulSoup(requests.get(l).text, \"html.parser\")\n",
    "        data = soup.find(id='players')\n",
    "        lst = []\n",
    "        for a in data.find_all('tr'):\n",
    "            try:\n",
    "                lst.append([1, url+a.td.strong.a['href']])\n",
    "            except:\n",
    "                try:\n",
    "                    lst.append([0, url+a.td.a['href']])\n",
    "                except AttributeError:\n",
    "                    pass\n",
    "        lst1 = [[a_.get_text() for a_ in a.find_all(\"td\")] for a in data.find_all('tr') if a.find('td') is not None]\n",
    "        letter_d = {v[0] :Player(*k + v) for k, v in zip(lst, lst1)}\n",
    "        d.update(letter_d)\n",
    "    return d       "
   ]
  },
  {
   "cell_type": "code",
   "execution_count": 10,
   "metadata": {
    "collapsed": true
   },
   "outputs": [],
   "source": [
    "def playerDict_to_csv(path = '../data/player_dict.csv'):\n",
    "    d=makePlayersDict()\n",
    "    with open(path, 'wb') as f:\n",
    "        Player = named_tuple_structure()\n",
    "        w = csv.writer(f)\n",
    "        w.writerow((['Name']+list(Player._fields)))\n",
    "        w.writerows(([name] + list(data) for name, data in d.items()))"
   ]
  },
  {
   "cell_type": "code",
   "execution_count": 11,
   "metadata": {
    "collapsed": false
   },
   "outputs": [],
   "source": [
    "#playerDict_to_csv()"
   ]
  },
  {
   "cell_type": "code",
   "execution_count": 13,
   "metadata": {
    "collapsed": false
   },
   "outputs": [],
   "source": [
    "def daily_boxscores(year, verbose=False, nice=True, startmonth = 1):\n",
    "    url = 'http://www.basketball-reference.com'\n",
    "    extension = '/boxscores/index.cgi?month=1&day=1&year='+str(int(year))\n",
    "    if startmonth != 1:\n",
    "        extension = '/boxscores/index.cgi?month='+str(int(startmonth))+'&day=1&year='+str(int(year))\n",
    "    forward, past = True, True\n",
    "    results = {}\n",
    "    while past or forward:\n",
    "        try:\n",
    "            soup = BeautifulSoup(requests.get(url+extension).text, \"html.parser\")\n",
    "        except ConnectionError:\n",
    "            print url+extension, \"Failed, trying again\"\n",
    "            pass\n",
    "        else:\n",
    "            if verbose:\n",
    "                print url+extension\n",
    "            data = soup.find(id='page_content')\n",
    "            if forward and past:\n",
    "                fut_link = data.find_all('a', href=True)[1]['href']\n",
    "                forward = False\n",
    "            if forward:\n",
    "                link = data.find_all('a', href=True)[1]['href']\n",
    "            if past:\n",
    "                link = data.a['href']\n",
    "            results['-'.join([e.split('=')[1] for e in extension.split('&')])] = [url+s['href'] \n",
    "                                                                                  for s in soup.find_all('a', href=True, text='Final')]\n",
    "            extension = link\n",
    "            if not len(soup.find_all('h2', text='League Standings')):\n",
    "                past = False\n",
    "                if forward:\n",
    "                    forward = False\n",
    "                else:\n",
    "                    forward = True\n",
    "                    extension = fut_link \n",
    "            if nice:\n",
    "                time.sleep(1)\n",
    "    return {k : v for k, v in results.iteritems() if v}"
   ]
  },
  {
   "cell_type": "code",
   "execution_count": 18,
   "metadata": {
    "collapsed": false
   },
   "outputs": [],
   "source": [
    "def boxscoreDict_to_csv(path = '../data/boxscore_dict_', year = 2015, verbose = False, nice = True, startmonth=1):\n",
    "    if verbose:\n",
    "        print path+str(int(year))+'_.csv'\n",
    "    d=daily_boxscores(year, verbose=verbose, nice=nice,startmonth=startmonth)\n",
    "    with open(path+str(int(year))+'_.csv', 'wb') as f:\n",
    "        w = csv.writer(f)\n",
    "        w.writerow(['Date', 'Boxscore Links'])\n",
    "        w.writerows([k] + v for k, v in d.items())"
   ]
  },
  {
   "cell_type": "code",
   "execution_count": 17,
   "metadata": {
    "collapsed": false
   },
   "outputs": [
    {
     "name": "stdout",
     "output_type": "stream",
     "text": [
      "1954\n",
      "1953\n",
      "1952\n",
      "1951\n",
      "1950\n",
      "1949\n",
      "1948\n",
      "1947\n",
      "1946\n",
      "1945\n",
      "Wall time: 1h 22min 20s\n"
     ]
    }
   ],
   "source": [
    "%%time\n",
    "starmonth = 1\n",
    "for year in range(2015, 1944, -1):\n",
    "    if year == 1999:\n",
    "        startmonth = 3\n",
    "    print year\n",
    "    try:\n",
    "        boxscoreDict_to_csv(year = year, startmonth = startmonth)\n",
    "    except NameError:\n",
    "        print \"Manual Stop\"\n",
    "        break\n",
    "    except:\n",
    "        print \"Failed\", year"
   ]
  },
  {
   "cell_type": "code",
   "execution_count": 173,
   "metadata": {
    "collapsed": false
   },
   "outputs": [],
   "source": [
    "def compileDicts(path = '../data/boxscore_dict_'):\n",
    "    allFiles = glob.glob(path + \"*_.csv\")\n",
    "    games = []\n",
    "    for file_ in allFiles:\n",
    "        year = file_.split('_')[-2]\n",
    "        with open(file_, 'rb') as f:\n",
    "            w = csv.reader(f)\n",
    "            d = {}\n",
    "            for i, row in enumerate(w):\n",
    "                if i:\n",
    "                    games=games+[[game, row[0], year] for game in row[1:]]\n",
    "    df = pd.DataFrame(games, columns=['Link','Date','Season'])\n",
    "    df['Year'], df['Month'], df['Day'] = zip(*df.Date.map(lambda x : [int(y) for y in [x.split('-')[2]]+x.split('-')[:2]]))\n",
    "    df_ = df.sort(columns=['Year','Month','Day']).reset_index(drop=True)\n",
    "    print path+'all.csv'\n",
    "    df_.to_csv(path_or_buf = path+'all.csv')"
   ]
  },
  {
   "cell_type": "code",
   "execution_count": 174,
   "metadata": {
    "collapsed": false
   },
   "outputs": [
    {
     "name": "stdout",
     "output_type": "stream",
     "text": [
      "../data/boxscore_dict_all.csv\n",
      "Wall time: 5.33 s\n"
     ]
    }
   ],
   "source": [
    "%%time\n",
    "compileDicts()"
   ]
  },
  {
   "cell_type": "code",
   "execution_count": null,
   "metadata": {
    "collapsed": true
   },
   "outputs": [],
   "source": [
    "def insertCreativeNameHere(path = '../data/boxscore_dict_', year = 2015):\n",
    "    with open(path+str(int(year))+'.csv', 'rb') as f:\n",
    "        w = csv.reader(f)\n",
    "        d = {}\n",
    "        for i, row in enumerate(w):\n",
    "            if i:\n",
    "                d[row[0]] = row[1:]\n",
    "        counter = 0\n",
    "        d_ = {}\n",
    "        for k, vs in d.iteritems():\n",
    "            d__ = {}\n",
    "            for v in vs:\n",
    "                if not counter % 123:\n",
    "                    print counter/float(2460)\n",
    "                soup = BeautifulSoup(requests.get(v).text, \"html.parser\")\n",
    "                teams = soup.find('td', class_ = 'background_yellow').a.text\n",
    "                teams = [teams[:3], teams[3:]]\n",
    "                for team in teams:\n",
    "                    for s in soup.find_all('table', id=team + '_basic'):\n",
    "                        if not counter:\n",
    "                            headers = [h.text for h in s.thead.find_all('tr')[-1].find_all('th')]\n",
    "                        d__[team] = (v, [[i.text for i in p.find_all('td')] for p in s.tbody.find_all('tr') if p.find_all('td')])\n",
    "                counter += 2\n",
    "            d_[k] = d__\n",
    "        d_['headers'] = headers\n",
    "        return d_"
   ]
  },
  {
   "cell_type": "code",
   "execution_count": 87,
   "metadata": {
    "collapsed": false
   },
   "outputs": [
    {
     "name": "stdout",
     "output_type": "stream",
     "text": [
      "0.0\n",
      "0.1\n",
      "0.2\n",
      "0.3\n",
      "0.4\n",
      "0.5\n",
      "0.6\n",
      "0.7\n",
      "0.8\n",
      "0.9\n",
      "1.0\n"
     ]
    }
   ],
   "source": [
    "insertCreativeNameHere"
   ]
  }
 ],
 "metadata": {
  "kernelspec": {
   "display_name": "Python 2",
   "language": "python",
   "name": "python2"
  },
  "language_info": {
   "codemirror_mode": {
    "name": "ipython",
    "version": 2
   },
   "file_extension": ".py",
   "mimetype": "text/x-python",
   "name": "python",
   "nbconvert_exporter": "python",
   "pygments_lexer": "ipython2",
   "version": "2.7.10"
  }
 },
 "nbformat": 4,
 "nbformat_minor": 0
}
