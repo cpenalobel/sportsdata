{
 "cells": [
  {
   "cell_type": "code",
   "execution_count": 1,
   "metadata": {
    "collapsed": false
   },
   "outputs": [],
   "source": [
    "# Only imported for timing purposes\n",
    "import time"
   ]
  },
  {
   "cell_type": "code",
   "execution_count": 2,
   "metadata": {
    "collapsed": true
   },
   "outputs": [],
   "source": [
    "def fib_rec(n, mod = None):\n",
    "    if not n:\n",
    "        return 0\n",
    "    elif n == 1:\n",
    "        return 1\n",
    "    elif mod:\n",
    "        return fib_rec(n-1)+fib_rec(n-2) % 65536\n",
    "    else:\n",
    "        return fib_rec(n-1)+fib_rec(n-2)\n",
    "    \n",
    "def fib_iter(n, mod=None):\n",
    "    if n < 1:\n",
    "        return [0]\n",
    "    vals = [0,1]\n",
    "    for i in range(2,n+1):\n",
    "        if mod:\n",
    "            vals.append((vals[i-1]+vals[i-2]) % 65536)\n",
    "        else:\n",
    "            vals.append((vals[i-1]+vals[i-2]))\n",
    "    return vals[-1]\n",
    "\n",
    "def mat_mult(mat1, mat2 = None, mod=None):\n",
    "    if not mat2:\n",
    "        mat2 = mat1\n",
    "    mat2_t = zip(*mat2)\n",
    "    val = [[sum(a*b for a, b in zip(row, col)) for col in mat2_t] for row in mat1]\n",
    "    if mod:\n",
    "        val = [[b % 65536 for b in a] for a in val]\n",
    "    return val\n",
    "\n",
    "def fib_mat(n, mod = None):\n",
    "    if n <=3:\n",
    "        return fib_iter(n)      \n",
    "    mats = [[[0,1],[1,1]]]\n",
    "    val = format(n-2, 'b')\n",
    "    l = len(val)\n",
    "    while l-1:\n",
    "        mats.append(mat_mult(mats[-1], mod=mod))\n",
    "        l -= 1\n",
    "    l = len(val)\n",
    "    final_mat = None\n",
    "    for i, v in enumerate(val):\n",
    "        if int(v):\n",
    "            try:\n",
    "                final_mat = mat_mult(final_mat, mats[l-i-1], mod=mod)\n",
    "            except TypeError:\n",
    "                final_mat = mats[l-i-1]\n",
    "    val = sum(zip(*mat_mult(final_mat, [[0],[1]], mod=mod))[0])\n",
    "    if mod:\n",
    "        val = val % 65536\n",
    "    return val\n",
    "\n",
    "def time_Grid_Search(func, n = 0, step = 100, cutoff = 60, verbose = False, mod = None):\n",
    "    while step:\n",
    "        start = time.clock()\n",
    "        val = func(n, mod=mod)\n",
    "        fin = time.clock()\n",
    "        if verbose:\n",
    "            print n, fin-start \n",
    "        if fin-start > cutoff:\n",
    "            n -= step\n",
    "            if step == 1:\n",
    "                step = 0\n",
    "            else:\n",
    "                step = step/10\n",
    "            n += step\n",
    "        else:\n",
    "            n += step\n",
    "    return n"
   ]
  },
  {
   "cell_type": "code",
   "execution_count": 3,
   "metadata": {
    "collapsed": false
   },
   "outputs": [
    {
     "name": "stdout",
     "output_type": "stream",
     "text": [
      "30 0.501803478619\n",
      "31 0.747911931875\n",
      "32 1.23417510544\n",
      "33 1.93808376548\n",
      "34 3.13007715042\n",
      "35 5.09368226915\n",
      "36 8.22967879205\n",
      "37 13.2844145801\n",
      "38 21.5388114935\n",
      "39 34.9106444731\n",
      "40 56.560064562\n",
      "41 91.1831837165\n",
      "Wall time: 3min 58s\n"
     ]
    }
   ],
   "source": [
    "%%time\n",
    "n_ = time_Grid_Search(fib_rec, n = 30, step = 1, cutoff = 60, verbose=True)"
   ]
  },
  {
   "cell_type": "code",
   "execution_count": 4,
   "metadata": {
    "collapsed": false
   },
   "outputs": [
    {
     "name": "stdout",
     "output_type": "stream",
     "text": [
      "30 0.507420746675\n",
      "31 0.739252200074\n",
      "32 1.20307932316\n",
      "33 1.94062644052\n",
      "34 3.15967133538\n",
      "35 5.12979557303\n",
      "36 8.27731177935\n",
      "37 13.4193004118\n",
      "38 21.5933567371\n",
      "39 35.2907038855\n",
      "40 57.6546357411\n",
      "41 91.5310402254\n",
      "Wall time: 4min\n"
     ]
    },
    {
     "data": {
      "text/plain": [
       "(40, 91.5310402254047)"
      ]
     },
     "execution_count": 4,
     "metadata": {},
     "output_type": "execute_result"
    }
   ],
   "source": [
    "%%time\n",
    "time_Grid_Search(fib_rec, n = 30, step = 1, cutoff = 60, verbose=True, mod=True)"
   ]
  },
  {
   "cell_type": "code",
   "execution_count": 5,
   "metadata": {
    "collapsed": false
   },
   "outputs": [
    {
     "name": "stdout",
     "output_type": "stream",
     "text": [
      "200000 8.27476464191\n",
      "210000 8.51173008554\n",
      "220000 10.8028587914\n",
      "230000 12.2439883674\n",
      "240000 14.2292570953\n",
      "250000 16.6677525171\n",
      "260000 19.7430831697\n",
      "270000 20.7389094878\n",
      "280000 25.8430203838\n",
      "290000 33.3552716776\n",
      "300000 37.6954354565\n",
      "310000 40.6947504783\n",
      "320000 46.2368253243\n",
      "330000 46.7964302592\n",
      "340000 49.2931988128\n",
      "350000 58.278696908\n",
      "360000 61.7701422657\n",
      "351000 55.2860482644\n",
      "352000 58.5666457083\n",
      "353000 55.7704947953\n",
      "354000 57.1024981849\n",
      "355000 57.5982716236\n",
      "356000 65.5409770958\n",
      "355100 64.1397114702\n",
      "355010 61.7852390083\n",
      "355001 63.6114584593\n",
      "Wall time: 17min 30s\n"
     ]
    }
   ],
   "source": [
    "%%time\n",
    "n_ = time_Grid_Search(fib_iter, n = 200000, step = 10000, cutoff = 60, verbose=True)"
   ]
  },
  {
   "cell_type": "code",
   "execution_count": 6,
   "metadata": {
    "collapsed": false
   },
   "outputs": [
    {
     "name": "stdout",
     "output_type": "stream",
     "text": [
      "0 1.33871981234e-06\n",
      "100000000 31.6977210974\n",
      "200000000 1164.34016333\n",
      "110000000 57.8123935997\n",
      "120000000 38.6769700488\n",
      "130000000 41.3969785988\n",
      "140000000 45.2601770591\n",
      "150000000 59.3508619347\n",
      "160000000 234.596930673\n",
      "151000000 45.7462720002\n",
      "152000000 40.9318631811\n",
      "153000000 40.4334859325\n",
      "154000000 41.6179048411\n",
      "155000000 43.2448589815\n",
      "156000000 40.6659746973\n",
      "157000000 44.376634521\n",
      "158000000 183.787652274\n",
      "157100000 198.014298866\n",
      "157010000 249.953762405\n",
      "157001000 109.477359795\n",
      "157000100 67.0562668372\n",
      "157000010 41.6451897345\n",
      "157000020 41.6774046865\n",
      "157000030 40.5441949319\n",
      "157000040 41.778241074\n",
      "157000050 39.9594979265\n",
      "157000060 40.0494063447\n",
      "157000070 39.0855165249\n",
      "157000080 39.1106438483\n",
      "157000090 49.9512041115\n",
      "157000100 42.2726985511\n",
      "157000110 42.3661688563\n",
      "157000120 42.531368658\n",
      "157000130 40.3906187875\n",
      "157000140 40.7015319863\n",
      "157000150 41.8762148324\n",
      "157000160 39.8586976845\n",
      "157000170 39.750893707\n",
      "157000180 40.4928679705\n",
      "157000190 39.5738756874\n",
      "157000200 39.6040870221\n",
      "157000210 39.5893553038\n",
      "157000220 40.5336400192\n",
      "157000230 40.5819874366\n",
      "157000240 40.2465984247\n",
      "157000250 39.261620199\n",
      "157000260 39.0205774612\n",
      "157000270 39.3404939965\n",
      "157000280 39.572732867\n",
      "157000290 39.0812254819\n",
      "157000300 39.0651153285\n",
      "157000310"
     ]
    },
    {
     "name": "stderr",
     "output_type": "stream",
     "text": [
      "ERROR: Internal Python error in the inspect module.\n",
      "Below is the traceback from this internal error.\n",
      "\n"
     ]
    },
    {
     "name": "stdout",
     "output_type": "stream",
     "text": [
      " 39.3691095773\n",
      "Traceback (most recent call last):\n",
      "  File \"c:\\Anaconda\\lib\\site-packages\\IPython\\core\\ultratb.py\", line 970, in get_records\n",
      "    return _fixed_getinnerframes(etb, number_of_lines_of_context, tb_offset)\n",
      "  File \"c:\\Anaconda\\lib\\site-packages\\IPython\\core\\ultratb.py\", line 233, in wrapped\n",
      "    return f(*args, **kwargs)\n",
      "  File \"c:\\Anaconda\\lib\\site-packages\\IPython\\core\\ultratb.py\", line 267, in _fixed_getinnerframes\n",
      "    records = fix_frame_records_filenames(inspect.getinnerframes(etb, context))\n",
      "  File \"c:\\Anaconda\\lib\\inspect.py\", line 1049, in getinnerframes\n",
      "    framelist.append((tb.tb_frame,) + getframeinfo(tb, context))\n",
      "  File \"c:\\Anaconda\\lib\\inspect.py\", line 1009, in getframeinfo\n",
      "    filename = getsourcefile(frame) or getfile(frame)\n",
      "  File \"c:\\Anaconda\\lib\\inspect.py\", line 444, in getsourcefile\n",
      "    filename = getfile(object)\n",
      "KeyboardInterrupt\n"
     ]
    },
    {
     "name": "stderr",
     "output_type": "stream",
     "text": [
      "\n",
      "Unfortunately, your original traceback can not be constructed.\n",
      "\n"
     ]
    },
    {
     "ename": "TypeError",
     "evalue": "'NoneType' object is not iterable",
     "output_type": "error",
     "traceback": [
      "\u001b[1;31m---------------------------------------------------------------------------\u001b[0m",
      "\u001b[1;31mTypeError\u001b[0m                                 Traceback (most recent call last)",
      "\u001b[1;32mc:\\Anaconda\\lib\\site-packages\\IPython\\core\\interactiveshell.pyc\u001b[0m in \u001b[0;36mrun_code\u001b[1;34m(self, code_obj, result)\u001b[0m\n\u001b[0;32m   3050\u001b[0m             \u001b[1;32mif\u001b[0m \u001b[0mresult\u001b[0m \u001b[1;32mis\u001b[0m \u001b[1;32mnot\u001b[0m \u001b[0mNone\u001b[0m\u001b[1;33m:\u001b[0m\u001b[1;33m\u001b[0m\u001b[0m\n\u001b[0;32m   3051\u001b[0m                 \u001b[0mresult\u001b[0m\u001b[1;33m.\u001b[0m\u001b[0merror_in_exec\u001b[0m \u001b[1;33m=\u001b[0m \u001b[0msys\u001b[0m\u001b[1;33m.\u001b[0m\u001b[0mexc_info\u001b[0m\u001b[1;33m(\u001b[0m\u001b[1;33m)\u001b[0m\u001b[1;33m[\u001b[0m\u001b[1;36m1\u001b[0m\u001b[1;33m]\u001b[0m\u001b[1;33m\u001b[0m\u001b[0m\n\u001b[1;32m-> 3052\u001b[1;33m             \u001b[0mself\u001b[0m\u001b[1;33m.\u001b[0m\u001b[0mshowtraceback\u001b[0m\u001b[1;33m(\u001b[0m\u001b[1;33m)\u001b[0m\u001b[1;33m\u001b[0m\u001b[0m\n\u001b[0m\u001b[0;32m   3053\u001b[0m         \u001b[1;32melse\u001b[0m\u001b[1;33m:\u001b[0m\u001b[1;33m\u001b[0m\u001b[0m\n\u001b[0;32m   3054\u001b[0m             \u001b[0moutflag\u001b[0m \u001b[1;33m=\u001b[0m \u001b[1;36m0\u001b[0m\u001b[1;33m\u001b[0m\u001b[0m\n",
      "\u001b[1;32mc:\\Anaconda\\lib\\site-packages\\IPython\\core\\interactiveshell.pyc\u001b[0m in \u001b[0;36mshowtraceback\u001b[1;34m(self, exc_tuple, filename, tb_offset, exception_only)\u001b[0m\n\u001b[0;32m   1849\u001b[0m                     \u001b[1;32mexcept\u001b[0m \u001b[0mException\u001b[0m\u001b[1;33m:\u001b[0m\u001b[1;33m\u001b[0m\u001b[0m\n\u001b[0;32m   1850\u001b[0m                         stb = self.InteractiveTB.structured_traceback(etype,\n\u001b[1;32m-> 1851\u001b[1;33m                                             value, tb, tb_offset=tb_offset)\n\u001b[0m\u001b[0;32m   1852\u001b[0m \u001b[1;33m\u001b[0m\u001b[0m\n\u001b[0;32m   1853\u001b[0m                     \u001b[0mself\u001b[0m\u001b[1;33m.\u001b[0m\u001b[0m_showtraceback\u001b[0m\u001b[1;33m(\u001b[0m\u001b[0metype\u001b[0m\u001b[1;33m,\u001b[0m \u001b[0mvalue\u001b[0m\u001b[1;33m,\u001b[0m \u001b[0mstb\u001b[0m\u001b[1;33m)\u001b[0m\u001b[1;33m\u001b[0m\u001b[0m\n",
      "\u001b[1;32mc:\\Anaconda\\lib\\site-packages\\IPython\\core\\ultratb.pyc\u001b[0m in \u001b[0;36mstructured_traceback\u001b[1;34m(self, etype, value, tb, tb_offset, number_of_lines_of_context)\u001b[0m\n\u001b[0;32m   1238\u001b[0m         \u001b[0mself\u001b[0m\u001b[1;33m.\u001b[0m\u001b[0mtb\u001b[0m \u001b[1;33m=\u001b[0m \u001b[0mtb\u001b[0m\u001b[1;33m\u001b[0m\u001b[0m\n\u001b[0;32m   1239\u001b[0m         return FormattedTB.structured_traceback(\n\u001b[1;32m-> 1240\u001b[1;33m             self, etype, value, tb, tb_offset, number_of_lines_of_context)\n\u001b[0m\u001b[0;32m   1241\u001b[0m \u001b[1;33m\u001b[0m\u001b[0m\n\u001b[0;32m   1242\u001b[0m \u001b[1;33m\u001b[0m\u001b[0m\n",
      "\u001b[1;32mc:\\Anaconda\\lib\\site-packages\\IPython\\core\\ultratb.pyc\u001b[0m in \u001b[0;36mstructured_traceback\u001b[1;34m(self, etype, value, tb, tb_offset, number_of_lines_of_context)\u001b[0m\n\u001b[0;32m   1146\u001b[0m             \u001b[1;31m# Verbose modes need a full traceback\u001b[0m\u001b[1;33m\u001b[0m\u001b[1;33m\u001b[0m\u001b[0m\n\u001b[0;32m   1147\u001b[0m             return VerboseTB.structured_traceback(\n\u001b[1;32m-> 1148\u001b[1;33m                 \u001b[0mself\u001b[0m\u001b[1;33m,\u001b[0m \u001b[0metype\u001b[0m\u001b[1;33m,\u001b[0m \u001b[0mvalue\u001b[0m\u001b[1;33m,\u001b[0m \u001b[0mtb\u001b[0m\u001b[1;33m,\u001b[0m \u001b[0mtb_offset\u001b[0m\u001b[1;33m,\u001b[0m \u001b[0mnumber_of_lines_of_context\u001b[0m\u001b[1;33m\u001b[0m\u001b[0m\n\u001b[0m\u001b[0;32m   1149\u001b[0m             )\n\u001b[0;32m   1150\u001b[0m         \u001b[1;32melse\u001b[0m\u001b[1;33m:\u001b[0m\u001b[1;33m\u001b[0m\u001b[0m\n",
      "\u001b[1;32mc:\\Anaconda\\lib\\site-packages\\IPython\\core\\ultratb.pyc\u001b[0m in \u001b[0;36mstructured_traceback\u001b[1;34m(self, etype, evalue, etb, tb_offset, number_of_lines_of_context)\u001b[0m\n\u001b[0;32m    998\u001b[0m \u001b[1;33m\u001b[0m\u001b[0m\n\u001b[0;32m    999\u001b[0m         formatted_exception = self.format_exception_as_a_whole(etype, evalue, etb, number_of_lines_of_context,\n\u001b[1;32m-> 1000\u001b[1;33m                                                                tb_offset)\n\u001b[0m\u001b[0;32m   1001\u001b[0m \u001b[1;33m\u001b[0m\u001b[0m\n\u001b[0;32m   1002\u001b[0m         \u001b[0mcolors\u001b[0m \u001b[1;33m=\u001b[0m \u001b[0mself\u001b[0m\u001b[1;33m.\u001b[0m\u001b[0mColors\u001b[0m  \u001b[1;31m# just a shorthand + quicker name lookup\u001b[0m\u001b[1;33m\u001b[0m\u001b[0m\n",
      "\u001b[1;32mc:\\Anaconda\\lib\\site-packages\\IPython\\core\\ultratb.pyc\u001b[0m in \u001b[0;36mformat_exception_as_a_whole\u001b[1;34m(self, etype, evalue, etb, number_of_lines_of_context, tb_offset)\u001b[0m\n\u001b[0;32m    949\u001b[0m         \u001b[0mrecords\u001b[0m \u001b[1;33m=\u001b[0m \u001b[0mself\u001b[0m\u001b[1;33m.\u001b[0m\u001b[0mget_records\u001b[0m\u001b[1;33m(\u001b[0m\u001b[0metb\u001b[0m\u001b[1;33m,\u001b[0m \u001b[0mnumber_of_lines_of_context\u001b[0m\u001b[1;33m,\u001b[0m \u001b[0mtb_offset\u001b[0m\u001b[1;33m)\u001b[0m\u001b[1;33m\u001b[0m\u001b[0m\n\u001b[0;32m    950\u001b[0m \u001b[1;33m\u001b[0m\u001b[0m\n\u001b[1;32m--> 951\u001b[1;33m         \u001b[0mframes\u001b[0m \u001b[1;33m=\u001b[0m \u001b[0mself\u001b[0m\u001b[1;33m.\u001b[0m\u001b[0mformat_records\u001b[0m\u001b[1;33m(\u001b[0m\u001b[0mrecords\u001b[0m\u001b[1;33m)\u001b[0m\u001b[1;33m\u001b[0m\u001b[0m\n\u001b[0m\u001b[0;32m    952\u001b[0m         \u001b[1;32mif\u001b[0m \u001b[0mrecords\u001b[0m \u001b[1;32mis\u001b[0m \u001b[0mNone\u001b[0m\u001b[1;33m:\u001b[0m\u001b[1;33m\u001b[0m\u001b[0m\n\u001b[0;32m    953\u001b[0m             \u001b[1;32mreturn\u001b[0m \u001b[1;34m\"\"\u001b[0m\u001b[1;33m\u001b[0m\u001b[0m\n",
      "\u001b[1;32mc:\\Anaconda\\lib\\site-packages\\IPython\\core\\ultratb.pyc\u001b[0m in \u001b[0;36mformat_records\u001b[1;34m(self, records)\u001b[0m\n\u001b[0;32m    722\u001b[0m \u001b[1;33m\u001b[0m\u001b[0m\n\u001b[0;32m    723\u001b[0m         \u001b[0mabspath\u001b[0m \u001b[1;33m=\u001b[0m \u001b[0mos\u001b[0m\u001b[1;33m.\u001b[0m\u001b[0mpath\u001b[0m\u001b[1;33m.\u001b[0m\u001b[0mabspath\u001b[0m\u001b[1;33m\u001b[0m\u001b[0m\n\u001b[1;32m--> 724\u001b[1;33m         \u001b[1;32mfor\u001b[0m \u001b[0mframe\u001b[0m\u001b[1;33m,\u001b[0m \u001b[0mfile\u001b[0m\u001b[1;33m,\u001b[0m \u001b[0mlnum\u001b[0m\u001b[1;33m,\u001b[0m \u001b[0mfunc\u001b[0m\u001b[1;33m,\u001b[0m \u001b[0mlines\u001b[0m\u001b[1;33m,\u001b[0m \u001b[0mindex\u001b[0m \u001b[1;32min\u001b[0m \u001b[0mrecords\u001b[0m\u001b[1;33m:\u001b[0m\u001b[1;33m\u001b[0m\u001b[0m\n\u001b[0m\u001b[0;32m    725\u001b[0m             \u001b[1;31m#print '*** record:',file,lnum,func,lines,index  # dbg\u001b[0m\u001b[1;33m\u001b[0m\u001b[1;33m\u001b[0m\u001b[0m\n\u001b[0;32m    726\u001b[0m             \u001b[1;32mif\u001b[0m \u001b[1;32mnot\u001b[0m \u001b[0mfile\u001b[0m\u001b[1;33m:\u001b[0m\u001b[1;33m\u001b[0m\u001b[0m\n",
      "\u001b[1;31mTypeError\u001b[0m: 'NoneType' object is not iterable"
     ]
    }
   ],
   "source": [
    "%%time\n",
    "time_Grid_Search(fib_iter, n = 0, step = 100000000, cutoff = 60, verbose=True, mod=True)"
   ]
  },
  {
   "cell_type": "code",
   "execution_count": null,
   "metadata": {
    "collapsed": false
   },
   "outputs": [],
   "source": [
    "%%time\n",
    "n_ = time_Grid_Search(fib_mat, n = 0, step = 10000000, cutoff = 60, verbose=True)"
   ]
  },
  {
   "cell_type": "code",
   "execution_count": null,
   "metadata": {
    "collapsed": false
   },
   "outputs": [],
   "source": [
    "%%time\n",
    "n = 1000000000000000000000000011100000000000010000000000011111111111111111111111111111111111111111111111111111110000000000011111111111111111111111111111000000000000000000123400000000000000000000000656712347812300000000000000000000000567800000000011110\n",
    "a = fib_mat(n, mod=True)\n",
    "b = fib_mat(n+1, mod=True)\n",
    "c = fib_mat(n+2, mod=True)\n",
    "d = fib_mat(n+3, mod=True)\n",
    "e = fib_mat(n+4, mod=True)\n",
    "print a\n",
    "print b\n",
    "print c, (a+b) % 65536\n",
    "print d, (b+c) % 65536\n",
    "print e, (c+d) % 65536"
   ]
  }
 ],
 "metadata": {
  "kernelspec": {
   "display_name": "Python 2",
   "language": "python",
   "name": "python2"
  }
 },
 "nbformat": 4,
 "nbformat_minor": 0
}
