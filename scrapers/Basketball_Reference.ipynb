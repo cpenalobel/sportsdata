{
 "cells": [
  {
   "cell_type": "code",
   "execution_count": 1,
   "metadata": {
    "collapsed": true
   },
   "outputs": [],
   "source": [
    "import requests\n",
    "from bs4 import BeautifulSoup\n",
    "import numpy as np\n",
    "import pandas as pd\n",
    "import time\n",
    "import json\n",
    "from collections import namedtuple\n",
    "import csv"
   ]
  },
  {
   "cell_type": "code",
   "execution_count": 2,
   "metadata": {
    "collapsed": false
   },
   "outputs": [],
   "source": [
    "def named_tuple_structure():\n",
    "    return namedtuple('Player', 'active url name start end pos height weight birthdate college')"
   ]
  },
  {
   "cell_type": "code",
   "execution_count": 3,
   "metadata": {
    "collapsed": true
   },
   "outputs": [],
   "source": [
    "def makePlayersDict(verbose=False, nice=True):\n",
    "    url = 'http://www.basketball-reference.com'\n",
    "    extension = '/players/'\n",
    "    soup = BeautifulSoup(requests.get(url+extension).text, \"html.parser\")\n",
    "    data = soup.find(id='page_content').p\n",
    "    links = [url+a['href'] for a in data.find_all('a', href=True)]\n",
    "    Player = named_tuple_structure()\n",
    "    d = {}\n",
    "    for l in links:\n",
    "        if verbose:\n",
    "            print l\n",
    "        if nice:\n",
    "            time.sleep(1)\n",
    "        soup = BeautifulSoup(requests.get(l).text, \"html.parser\")\n",
    "        data = soup.find(id='players')\n",
    "        lst = []\n",
    "        for a in data.find_all('tr'):\n",
    "            try:\n",
    "                lst.append([1, url+a.td.strong.a['href']])\n",
    "            except:\n",
    "                try:\n",
    "                    lst.append([0, url+a.td.a['href']])\n",
    "                except AttributeError:\n",
    "                    pass\n",
    "        lst1 = [[a_.get_text() for a_ in a.find_all(\"td\")] for a in data.find_all('tr') if a.find('td') is not None]\n",
    "        letter_d = {v[0] :Player(*k + v) for k, v in zip(lst, lst1)}\n",
    "        d.update(letter_d)\n",
    "    return d       "
   ]
  },
  {
   "cell_type": "code",
   "execution_count": 9,
   "metadata": {
    "collapsed": true
   },
   "outputs": [],
   "source": [
    "def dict_to_csv(path = '../data/player_dict.csv'):\n",
    "    d=makePlayersDict()\n",
    "    with open(path, 'wb') as f:\n",
    "        Player = named_tuple_structure()\n",
    "        w = csv.writer(f)\n",
    "        w.writerow((['Name']+list(Player._fields)))\n",
    "        w.writerows(([name] + list(data) for name, data in d.items()))"
   ]
  },
  {
   "cell_type": "code",
   "execution_count": 10,
   "metadata": {
    "collapsed": false
   },
   "outputs": [],
   "source": [
    "dict_to_csv()"
   ]
  }
 ],
 "metadata": {
  "kernelspec": {
   "display_name": "Python 2",
   "language": "python",
   "name": "python2"
  },
  "language_info": {
   "codemirror_mode": {
    "name": "ipython",
    "version": 2
   },
   "file_extension": ".py",
   "mimetype": "text/x-python",
   "name": "python",
   "nbconvert_exporter": "python",
   "pygments_lexer": "ipython2",
   "version": "2.7.10"
  }
 },
 "nbformat": 4,
 "nbformat_minor": 0
}
